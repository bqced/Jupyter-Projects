{
 "cells": [
  {
   "cell_type": "code",
   "execution_count": 16,
   "id": "9b01cd9c-7aef-474b-8b90-18721b4315a1",
   "metadata": {},
   "outputs": [
    {
     "name": "stdout",
     "output_type": "stream",
     "text": [
      "Weather in London:\n",
      "Temperature: 8.5°C\n",
      "Description: broken clouds\n"
     ]
    }
   ],
   "source": [
    "# this import request allows us to send HTTP requests to the web server \n",
    "import requests\n",
    "\n",
    "def get_weather(api_key, city):\n",
    "    url = f\"http://api.openweathermap.org/data/2.5/weather?q={city}&appid={api_key}&units=metric\"\n",
    "    response = requests.get(url)\n",
    "    data = response.json()\n",
    "    if response.status_code == 200:\n",
    "        weather = {\n",
    "            \"city\": data[\"name\"],\n",
    "            \"temperature\": data[\"main\"][\"temp\"],\n",
    "            \"description\": data[\"weather\"][0][\"description\"],\n",
    "        }\n",
    "        return weather\n",
    "    else:\n",
    "        print(\"Error:\", data[\"message\"])\n",
    "        return None\n",
    "\n",
    "# Replace 'your_api_key' with your actual API key from OpenWeatherMap\n",
    "\n",
    "api_key = \"c0a21b99f5d03e0727718fa66d2cff40\"\n",
    "city = \"London\"  # You can change this to any city you want\n",
    "weather = get_weather(api_key, city)\n",
    "if weather:\n",
    "    print(f\"Weather in {weather['city']}:\")\n",
    "    print(f\"Temperature: {weather['temperature']}°C\")\n",
    "    print(f\"Description: {weather['description']}\")\n",
    "\n"
   ]
  },
  {
   "cell_type": "code",
   "execution_count": 46,
   "id": "ac2812e0-b88c-46f5-b7a2-6e33a788d9ae",
   "metadata": {},
   "outputs": [
    {
     "name": "stdin",
     "output_type": "stream",
     "text": [
      "Enter Country Name: Japan\n"
     ]
    },
    {
     "name": "stdout",
     "output_type": "stream",
     "text": [
      "Weather in Japan\n",
      "Temperature: 12.07°C\n",
      "Description: broken clouds\n",
      "Timezone: 32400\n"
     ]
    }
   ],
   "source": [
    "import requests\n",
    "\n",
    "def get_weather(api_key, city):\n",
    "    url = f\"http://api.openweathermap.org/data/2.5/weather?q={city}&appid={api_key}&units=metric\"\n",
    "    response = requests.get(url)\n",
    "    data = response.json()\n",
    "    if response.status_code == 200:\n",
    "        weather = {\n",
    "            \"country\": data[\"name\"],\n",
    "            \"timezone\": data[\"timezone\"],\n",
    "            \"temperature\": data[\"main\"][\"temp\"],\n",
    "            \"description\": data[\"weather\"][0][\"description\"],\n",
    "            \n",
    "        }\n",
    "        return weather\n",
    "    else:\n",
    "        print(\"Error:\", data[\"message\"])\n",
    "        return None\n",
    "\n",
    "# Replace 'your_api_key' with your actual API key from OpenWeatherMap\n",
    "api_key = \"c0a21b99f5d03e0727718fa66d2cff40\"\n",
    "country = input(\"Enter Country Name:\")  # You can change this to any city you want\n",
    "weather = get_weather(api_key, country)\n",
    "if weather:\n",
    "    print(f\"Weather in {weather['country']}\")\n",
    "    print(f\"Temperature: {weather['temperature']}°C\")\n",
    "    print(f\"Description: {weather['description']}\")\n",
    "    print(f\"Timezone: {weather['timezone']}\")\n",
    "\n"
   ]
  },
  {
   "cell_type": "code",
   "execution_count": null,
   "id": "41a0ca59-b4b3-435d-9a09-ece76bb74bb3",
   "metadata": {},
   "outputs": [],
   "source": []
  }
 ],
 "metadata": {
  "kernelspec": {
   "display_name": "Python 3 (ipykernel)",
   "language": "python",
   "name": "python3"
  },
  "language_info": {
   "codemirror_mode": {
    "name": "ipython",
    "version": 3
   },
   "file_extension": ".py",
   "mimetype": "text/x-python",
   "name": "python",
   "nbconvert_exporter": "python",
   "pygments_lexer": "ipython3",
   "version": "3.12.7"
  }
 },
 "nbformat": 4,
 "nbformat_minor": 5
}

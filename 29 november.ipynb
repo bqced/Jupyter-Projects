{
 "cells": [
  {
   "cell_type": "code",
   "execution_count": 9,
   "id": "26ea8bab-6631-440d-8782-c19a258c3e33",
   "metadata": {},
   "outputs": [
    {
     "name": "stdout",
     "output_type": "stream",
     "text": [
      "2.0\n",
      "20\n"
     ]
    }
   ],
   "source": [
    "class snur():\n",
    "    def __init__(self,a,b):\n",
    "        self.a = a\n",
    "        self.b = b\n",
    "        \n",
    "    def addition_ten(self):\n",
    "        y = self.a\n",
    "        z = 10 + y\n",
    "        print(z)\n",
    "\n",
    "    def division_ten(self):\n",
    "        x = self.b\n",
    "        c= x / 10\n",
    "        print(c)\n",
    "\n",
    "sales = 10\n",
    "profit = 20\n",
    "\n",
    "company_one = snur(sales,profit)\n",
    "\n",
    "company_one.division_ten()\n",
    "company_one.addition_ten()"
   ]
  },
  {
   "cell_type": "code",
   "execution_count": 20,
   "id": "f812ced9-57ac-4be0-989b-24fcb0c12081",
   "metadata": {},
   "outputs": [
    {
     "name": "stdout",
     "output_type": "stream",
     "text": [
      "query executed\n"
     ]
    }
   ],
   "source": [
    "import pandas as pd\n",
    "import pandasql as ps\n",
    "\n",
    "#loading in budget 2022 and 2023\n",
    "budget2=pd.read_csv(r\"C:\\Users\\user\\Downloads\\Budget 2022.csv\")\n",
    "budget3=pd.read_csv(r\"C:\\Users\\user\\Downloads\\Budget 2023.csv\")\n",
    "\n",
    "#using sql query to complete inner join between two tables\n",
    "query=\"\"\"\n",
    "select budget2.*, budget3.*\n",
    "from budget2\n",
    "inner join budget3\n",
    "on budget2.[Budget £] = budget3.[Budget £]\"\"\"\n",
    "\n",
    "#this executes sql query\n",
    "budget2_budget3=ps.sqldf(query)\n",
    "\n",
    "#pointing to where i want save file in\n",
    "save_file=r\"C:\\Users\\user\\Downloads\\budget2_budget3.csv\"\n",
    "\n",
    "budget2_budget3.to_csv(save_file, index=False, encoding=\"utf_8\")\n",
    "\n",
    "print('query executed')"
   ]
  },
  {
   "cell_type": "code",
   "execution_count": 24,
   "id": "38b0e762-0828-445d-9848-b2c9a0bcd8a4",
   "metadata": {},
   "outputs": [
    {
     "name": "stdout",
     "output_type": "stream",
     "text": [
      "query executed\n"
     ]
    }
   ],
   "source": [
    "import pandas as pd\n",
    "import pandasql as ps\n",
    "\n",
    "#loading in budget 2022 and 2023\n",
    "budget2=pd.read_csv(r\"C:\\Users\\user\\Downloads\\Budget 2022.csv\")\n",
    "budget3=pd.read_csv(r\"C:\\Users\\user\\Downloads\\Budget 2023.csv\")\n",
    "\n",
    "#using sql query to complete inner join between two tables\n",
    "query=\"\"\"\n",
    "select budget2.*, budget3.*\n",
    "from budget2\n",
    "inner join budget3\n",
    "on budget2.[Department] = budget3.[Department]\"\"\"\n",
    "\n",
    "#this executes sql query\n",
    "Joined_Inner=ps.sqldf(query)\n",
    "\n",
    "#pointing to where i want save file in\n",
    "save_file=r\"C:\\Users\\user\\Downloads\\Joined_Inner.csv\"\n",
    "\n",
    "Joined_Inner.to_csv(save_file, index=False, encoding=\"utf_8\")\n",
    "\n",
    "print('query executed')"
   ]
  },
  {
   "cell_type": "code",
   "execution_count": null,
   "id": "3f237c3e-e534-430a-a117-975938145873",
   "metadata": {},
   "outputs": [],
   "source": []
  }
 ],
 "metadata": {
  "kernelspec": {
   "display_name": "Python 3 (ipykernel)",
   "language": "python",
   "name": "python3"
  },
  "language_info": {
   "codemirror_mode": {
    "name": "ipython",
    "version": 3
   },
   "file_extension": ".py",
   "mimetype": "text/x-python",
   "name": "python",
   "nbconvert_exporter": "python",
   "pygments_lexer": "ipython3",
   "version": "3.12.7"
  }
 },
 "nbformat": 4,
 "nbformat_minor": 5
}

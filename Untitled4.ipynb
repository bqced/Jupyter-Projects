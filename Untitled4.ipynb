{
 "cells": [
  {
   "cell_type": "code",
   "execution_count": 20,
   "id": "c55882da-e711-4676-ab3d-51398d0a02b9",
   "metadata": {},
   "outputs": [
    {
     "name": "stdout",
     "output_type": "stream",
     "text": [
      "   Row_ID  Order_ID  Order_Date Order_Priority  Order_Quantity    Sales  \\\n",
      "0       1         3  13/10/2010            Low               6   261.54   \n",
      "1       2         6  20/02/2012  Not Specified               2     6.93   \n",
      "2       3        32  15/07/2011           High              26  2808.08   \n",
      "\n",
      "   Discount    Ship_Mode   Profit  Unit_Price  ...  Zip_Code       State  \\\n",
      "0      0.04  Regular Air  -213.25       38.94  ...     60035    Illinois   \n",
      "1      0.01  Regular Air    -4.64        2.08  ...     98026  Washington   \n",
      "2      0.07  Regular Air  1054.82      107.53  ...     98387  Washington   \n",
      "\n",
      "    Region  Customer_Segment Product_Category           Product_Sub-Category  \\\n",
      "0  Central    Small Business  Office Supplies         Storage & Organization   \n",
      "1     West         Corporate  Office Supplies  Scissors, Rulers and Trimmers   \n",
      "2     West         Corporate        Furniture             Office Furnishings   \n",
      "\n",
      "                                        Product_Name Product_Container  \\\n",
      "0   Eldon Base for stackable storage shelf, platinum         Large Box   \n",
      "1  Kleencut® Forged Office Shears by Acme United ...        Small Pack   \n",
      "2  Tenex Contemporary Contur Chairmats for Low an...        Medium Box   \n",
      "\n",
      "  Product_Base_Margin   Ship_Date  \n",
      "0                0.80  20/10/2010  \n",
      "1                0.55  21/02/2012  \n",
      "2                0.65  17/07/2011  \n",
      "\n",
      "[3 rows x 23 columns]\n"
     ]
    }
   ],
   "source": [
    "import pandas as pd\n",
    "docx = pd.read_csv(r\"C:\\Users\\user\\Downloads\\Sales.csv\")\n",
    "print(docx.head(3))"
   ]
  },
  {
   "cell_type": "code",
   "execution_count": 30,
   "id": "60440766-ec3e-4e52-86a9-57cadaa38c77",
   "metadata": {},
   "outputs": [
    {
     "name": "stdout",
     "output_type": "stream",
     "text": [
      "14.441959718035069\n"
     ]
    }
   ],
   "source": [
    "import pandas as pd\n",
    "docx = pd.read_csv(r\"C:\\Users\\user\\Downloads\\Sales.csv\")\n",
    "print(docx.Order_Quantity.std())"
   ]
  },
  {
   "cell_type": "code",
   "execution_count": 38,
   "id": "93e4b722-ca35-4925-9d58-ee7ec8b43a80",
   "metadata": {},
   "outputs": [
    {
     "name": "stdout",
     "output_type": "stream",
     "text": [
      "25.13630229419703\n"
     ]
    }
   ],
   "source": [
    "import pandas as pd\n",
    "docx = pd.read_csv(r\"C:\\Users\\user\\Downloads\\Sales.csv\")\n",
    "print(docx.Order_Quantity.mean())"
   ]
  },
  {
   "cell_type": "code",
   "execution_count": 52,
   "id": "28b198b6-1de7-457b-b422-c3ac5dc44d71",
   "metadata": {},
   "outputs": [
    {
     "name": "stdout",
     "output_type": "stream",
     "text": [
      "129      1\n",
      "283      1\n",
      "247      1\n",
      "453      1\n",
      "298      1\n",
      "        ..\n",
      "1444    50\n",
      "856     50\n",
      "1067    50\n",
      "64      50\n",
      "1350    50\n",
      "Name: Order_Quantity, Length: 1482, dtype: int64\n"
     ]
    }
   ],
   "source": [
    "import pandas as pd\n",
    "docx = pd.read_csv(r\"C:\\Users\\user\\Downloads\\Sales.csv\")\n",
    "print(docx.Order_Quantity.sort_values(ascending=True))"
   ]
  },
  {
   "cell_type": "code",
   "execution_count": null,
   "id": "211f4c9a-d0f5-4218-8d04-28fb0a5413cd",
   "metadata": {},
   "outputs": [],
   "source": []
  }
 ],
 "metadata": {
  "kernelspec": {
   "display_name": "Python 3 (ipykernel)",
   "language": "python",
   "name": "python3"
  },
  "language_info": {
   "codemirror_mode": {
    "name": "ipython",
    "version": 3
   },
   "file_extension": ".py",
   "mimetype": "text/x-python",
   "name": "python",
   "nbconvert_exporter": "python",
   "pygments_lexer": "ipython3",
   "version": "3.12.7"
  }
 },
 "nbformat": 4,
 "nbformat_minor": 5
}

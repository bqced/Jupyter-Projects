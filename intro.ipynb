{
 "cells": [
  {
   "cell_type": "code",
   "execution_count": 2,
   "id": "c55882da-e711-4676-ab3d-51398d0a02b9",
   "metadata": {},
   "outputs": [
    {
     "name": "stdout",
     "output_type": "stream",
     "text": [
      "   Row_ID  Order_ID  Order_Date Order_Priority  Order_Quantity      Sales  \\\n",
      "0       1         3  13/10/2010            Low               6   261.5400   \n",
      "1       2         6  20/02/2012  Not Specified               2     6.9300   \n",
      "2       3        32  15/07/2011           High              26  2808.0800   \n",
      "3       4        32  15/07/2011           High              24  1761.4000   \n",
      "4       5        32  15/07/2011           High              23   160.2335   \n",
      "5       6        32  15/07/2011           High              15   140.5600   \n",
      "6       7        35  22/10/2011  Not Specified              30   288.5600   \n",
      "7       8        35  22/10/2011  Not Specified              14  1892.8480   \n",
      "8       9        36  02/11/2011       Critical              46  2484.7455   \n",
      "9      10        65  17/03/2011       Critical              32  3812.7300   \n",
      "\n",
      "   Discount       Ship_Mode   Profit  Unit_Price  ...  Zip_Code  \\\n",
      "0      0.04     Regular Air  -213.25       38.94  ...     60035   \n",
      "1      0.01     Regular Air    -4.64        2.08  ...     98026   \n",
      "2      0.07     Regular Air  1054.82      107.53  ...     98387   \n",
      "3      0.09  Delivery Truck -1748.56       70.89  ...     98387   \n",
      "4      0.04     Regular Air   -85.13        7.99  ...     98387   \n",
      "5      0.04     Regular Air  -128.38        8.46  ...     27260   \n",
      "6      0.03     Regular Air    60.72        9.11  ...     50010   \n",
      "7      0.01     Regular Air    48.99      155.99  ...     50010   \n",
      "8      0.10     Regular Air   657.48       65.99  ...     97321   \n",
      "9      0.02     Regular Air  1470.30      115.79  ...     78660   \n",
      "\n",
      "            State   Region  Customer_Segment Product_Category  \\\n",
      "0        Illinois  Central    Small Business  Office Supplies   \n",
      "1      Washington     West         Corporate  Office Supplies   \n",
      "2      Washington     West         Corporate        Furniture   \n",
      "3      Washington     West         Corporate        Furniture   \n",
      "4      Washington     West         Corporate       Technology   \n",
      "5  North Carolina    South         Corporate       Technology   \n",
      "6            Iowa  Central         Corporate  Office Supplies   \n",
      "7            Iowa  Central         Corporate       Technology   \n",
      "8          Oregon     West       Home Office       Technology   \n",
      "9           Texas  Central         Corporate       Technology   \n",
      "\n",
      "            Product_Sub-Category  \\\n",
      "0         Storage & Organization   \n",
      "1  Scissors, Rulers and Trimmers   \n",
      "2             Office Furnishings   \n",
      "3                         Tables   \n",
      "4   Telephones and Communication   \n",
      "5           Computer Peripherals   \n",
      "6            Pens & Art Supplies   \n",
      "7   Telephones and Communication   \n",
      "8   Telephones and Communication   \n",
      "9           Computer Peripherals   \n",
      "\n",
      "                                        Product_Name Product_Container  \\\n",
      "0   Eldon Base for stackable storage shelf, platinum         Large Box   \n",
      "1  Kleencut® Forged Office Shears by Acme United ...        Small Pack   \n",
      "2  Tenex Contemporary Contur Chairmats for Low an...        Medium Box   \n",
      "3                               KI Conference Tables         Jumbo Box   \n",
      "4                       Bell Sonecor JB700 Caller ID        Medium Box   \n",
      "5                  Imation 3.5 IBM Diskettes, 10/Box        Small Pack   \n",
      "6        Dixon Ticonderoga Core-Lock Colored Pencils          Wrap Bag   \n",
      "7                                             CF 688         Small Box   \n",
      "8                                              6162i         Small Box   \n",
      "9  Verbatim DVD-R, 4.7GB, Spindle, WE, Blank, Ink...        Small Pack   \n",
      "\n",
      "  Product_Base_Margin   Ship_Date  \n",
      "0                0.80  20/10/2010  \n",
      "1                0.55  21/02/2012  \n",
      "2                0.65  17/07/2011  \n",
      "3                0.72  16/07/2011  \n",
      "4                0.60  17/07/2011  \n",
      "5                0.79  16/07/2011  \n",
      "6                0.52  23/10/2011  \n",
      "7                0.58  24/10/2011  \n",
      "8                0.55  02/11/2011  \n",
      "9                0.49  18/03/2011  \n",
      "\n",
      "[10 rows x 23 columns]\n"
     ]
    }
   ],
   "source": [
    "import pandas as pd\n",
    "docx = pd.read_csv(r\"C:\\Users\\user\\Downloads\\Sales.csv\")\n",
    "print(docx.head(10))"
   ]
  },
  {
   "cell_type": "code",
   "execution_count": 3,
   "id": "60440766-ec3e-4e52-86a9-57cadaa38c77",
   "metadata": {},
   "outputs": [
    {
     "name": "stdout",
     "output_type": "stream",
     "text": [
      "1467\n"
     ]
    }
   ],
   "source": [
    "#counts sales amount\n",
    "import pandas as pd\n",
    "docx = pd.read_csv(r\"C:\\Users\\user\\Downloads\\Sales.csv\")\n",
    "print(docx.Sales.count())"
   ]
  },
  {
   "cell_type": "code",
   "execution_count": 4,
   "id": "93e4b722-ca35-4925-9d58-ee7ec8b43a80",
   "metadata": {},
   "outputs": [
    {
     "name": "stdout",
     "output_type": "stream",
     "text": [
      "25.13630229419703\n"
     ]
    }
   ],
   "source": [
    "#finds the mean of order quantity\n",
    "import pandas as pd\n",
    "docx = pd.read_csv(r\"C:\\Users\\user\\Downloads\\Sales.csv\")\n",
    "print(docx.Order_Quantity.mean())"
   ]
  },
  {
   "cell_type": "code",
   "execution_count": 5,
   "id": "28b198b6-1de7-457b-b422-c3ac5dc44d71",
   "metadata": {},
   "outputs": [
    {
     "name": "stdout",
     "output_type": "stream",
     "text": [
      "129      1\n",
      "283      1\n",
      "247      1\n",
      "453      1\n",
      "298      1\n",
      "        ..\n",
      "1444    50\n",
      "856     50\n",
      "1067    50\n",
      "64      50\n",
      "1350    50\n",
      "Name: Order_Quantity, Length: 1482, dtype: int64\n"
     ]
    }
   ],
   "source": [
    "#order quantity sorted as ascending\n",
    "import pandas as pd\n",
    "docx = pd.read_csv(r\"C:\\Users\\user\\Downloads\\Sales.csv\")\n",
    "print(docx.Order_Quantity.sort_values(ascending=True))"
   ]
  },
  {
   "cell_type": "code",
   "execution_count": 6,
   "id": "211f4c9a-d0f5-4218-8d04-28fb0a5413cd",
   "metadata": {},
   "outputs": [
    {
     "name": "stdout",
     "output_type": "stream",
     "text": [
      "1136    50\n",
      "921     50\n",
      "859     50\n",
      "290     50\n",
      "1355    50\n",
      "        ..\n",
      "35       1\n",
      "886      1\n",
      "882      1\n",
      "316      1\n",
      "335      1\n",
      "Name: Order_Quantity, Length: 1482, dtype: int64\n"
     ]
    }
   ],
   "source": [
    "#sort order quantity non ascending\n",
    "import pandas as pd\n",
    "docx = pd.read_csv(r\"C:\\Users\\user\\Downloads\\Sales.csv\")\n",
    "print(docx.Order_Quantity.sort_values(ascending=False))"
   ]
  },
  {
   "cell_type": "code",
   "execution_count": 7,
   "id": "24b12227-91cd-43cc-a7f8-18498be31092",
   "metadata": {},
   "outputs": [
    {
     "name": "stdout",
     "output_type": "stream",
     "text": [
      "                Order_Quantity    Profit     Sales\n",
      "Order_Quantity        1.000000  0.187298  0.234325\n",
      "Profit                0.187298  1.000000  0.646312\n",
      "Sales                 0.234325  0.646312  1.000000\n"
     ]
    }
   ],
   "source": [
    "# Calculate the correlation matrix\n",
    "import pandas as pd\n",
    "docx = pd.read_csv(r\"C:\\Users\\user\\Downloads\\Sales.csv\")\n",
    "corr_matrix = docx[['Order_Quantity', 'Profit', 'Sales']].corr()\n",
    "print(corr_matrix)"
   ]
  },
  {
   "cell_type": "code",
   "execution_count": 8,
   "id": "ed2ed2a4-6c05-4c62-89b2-c7cee0fbdef2",
   "metadata": {},
   "outputs": [
    {
     "name": "stdout",
     "output_type": "stream",
     "text": [
      "Requirement already satisfied: scikit-learn in c:\\users\\user\\anaconda3\\lib\\site-packages (1.5.1)\n",
      "Requirement already satisfied: numpy>=1.19.5 in c:\\users\\user\\anaconda3\\lib\\site-packages (from scikit-learn) (1.26.4)\n",
      "Requirement already satisfied: scipy>=1.6.0 in c:\\users\\user\\anaconda3\\lib\\site-packages (from scikit-learn) (1.13.1)\n",
      "Requirement already satisfied: joblib>=1.2.0 in c:\\users\\user\\anaconda3\\lib\\site-packages (from scikit-learn) (1.4.2)\n",
      "Requirement already satisfied: threadpoolctl>=3.1.0 in c:\\users\\user\\anaconda3\\lib\\site-packages (from scikit-learn) (3.5.0)\n"
     ]
    }
   ],
   "source": [
    "!pip install scikit-learn"
   ]
  },
  {
   "cell_type": "code",
   "execution_count": 9,
   "id": "6c8d4c76-ee80-479e-9d31-8342dc0d4d10",
   "metadata": {},
   "outputs": [
    {
     "name": "stdout",
     "output_type": "stream",
     "text": [
      "Requirement already satisfied: LinearRegression in c:\\users\\user\\anaconda3\\lib\\site-packages (0.0.1)\n"
     ]
    }
   ],
   "source": [
    "!pip install LinearRegression"
   ]
  },
  {
   "cell_type": "code",
   "execution_count": 56,
   "id": "26d4d859-77db-42b9-baa6-e73c6470a2fa",
   "metadata": {},
   "outputs": [
    {
     "name": "stdout",
     "output_type": "stream",
     "text": [
      "[[ 19.90075317]\n",
      " [ 11.07499945]\n",
      " [108.17354245]\n",
      " [ 71.89162146]\n",
      " [ 16.38908348]]\n"
     ]
    }
   ],
   "source": [
    "import pandas as pd\n",
    "from sklearn.linear_model import LinearRegression\n",
    "\n",
    "new_data = pd.read_csv(r\"C:\\Users\\user\\Downloads\\Sales.csv\", nrows = 5)\n",
    "x = new_data[['Unit_Price']]\n",
    "y = new_data[['Sales']]\n",
    "\n",
    "train_data = LinearRegression()\n",
    "train_data.fit(y, x)\n",
    "predictions_of_sales = train_data.predict(y)\n",
    "print(predictions_of_sales)"
   ]
  },
  {
   "cell_type": "code",
   "execution_count": 44,
   "id": "3780cb84-1b05-42fc-b24f-2c5a634da7ab",
   "metadata": {},
   "outputs": [
    {
     "name": "stdout",
     "output_type": "stream",
     "text": [
      "[[380829.]\n",
      " [269903.]\n",
      " [158977.]\n",
      " [ 48051.]\n",
      " [-62875.]]\n"
     ]
    }
   ],
   "source": [
    "import pandas as pd\n",
    "from sklearn.linear_model import LinearRegression\n",
    "\n",
    "x = [[2009], [2010], [2011], [2012]]\n",
    "y = [[872770], [650451], [584282], [525073]]\n",
    "train_data = LinearRegression()\n",
    "train_data.fit(x, y)\n",
    "future_years = [[2013], [2014], [2015], [2016], [2017]]\n",
    "predictions_of_y = train_data.predict(future_years)\n",
    "print(predictions_of_y)"
   ]
  },
  {
   "cell_type": "code",
   "execution_count": 52,
   "id": "471448b3-27c9-4fec-b40e-9326332cff5f",
   "metadata": {},
   "outputs": [
    {
     "name": "stdout",
     "output_type": "stream",
     "text": [
      "   Years   Sales\n",
      "0   2009  872770\n",
      "1   2010  650451\n",
      "2   2011  584282\n",
      "3   2012  525073\n",
      "[[824533.]\n",
      " [713607.]\n",
      " [602681.]\n",
      " [491755.]]\n"
     ]
    }
   ],
   "source": [
    "import pandas as pd\n",
    "from sklearn.linear_model import LinearRegression\n",
    "\n",
    "new_data = pd.read_csv(\"/Users/user/Downloads/sales5years.csv\")\n",
    "print(new_data.head(5))\n",
    "\n",
    "x = new_data[['Years']]\n",
    "y = new_data[['Sales']]\n",
    "train_data = LinearRegression()\n",
    "train_data.fit(x, y)\n",
    "predictions_of_sales = train_data.predict(x)\n",
    "print(predictions_of_sales)"
   ]
  },
  {
   "cell_type": "code",
   "execution_count": null,
   "id": "0f33901b-e9d5-4786-8f9c-904c0c21a73a",
   "metadata": {},
   "outputs": [],
   "source": [
    "number = 1\n",
    "while number < 14:\n",
    "    if not number % 5 ==0:\n",
    "        print('The number is:', number)\n",
    "    number+=1"
   ]
  },
  {
   "cell_type": "code",
   "execution_count": 62,
   "id": "08002c0c-6364-4013-814a-8b7c38e401c6",
   "metadata": {},
   "outputs": [
    {
     "name": "stdout",
     "output_type": "stream",
     "text": [
      "   Years   Sales\n",
      "0   2009  872770\n",
      "1   2010  650451\n",
      "2   2011  584282\n",
      "3   2012  525073\n"
     ]
    },
    {
     "data": {
      "image/png": "[encoded data removed]",
      "text/plain": [
       "<Figure size 640x480 with 1 Axes>"
      ]
     },
     "metadata": {},
     "output_type": "display_data"
    }
   ],
   "source": [
    "import pandas as pd\n",
    "from sklearn.linear_model import LinearRegression\n",
    "import matplotlib.pyplot as plt\n",
    "\n",
    "new_data = pd.read_csv(\"/Users/user/Downloads/sales5years.csv\")\n",
    "print(new_data.head(5))\n",
    "\n",
    "x = new_data[['Years']]\n",
    "y = new_data[['Sales']]\n",
    "\n",
    "train_data = LinearRegression()\n",
    "train_data.fit(x, y)\n",
    "predictions_of_sales = train_data.predict(x)\n",
    "\n",
    "\n",
    "#create plot\n",
    "plt.plot(x, y, color ='green', label='actual sales')\n",
    "plt.plot(x, predictions_of_sales, color='red', label='Predicted sales')\n",
    "\n",
    "plt.xlabel('Years')\n",
    "plt.ylabel('Sales($)')\n",
    "plt.title('Sales 2009-2012')\n",
    "plt.legend()\n",
    "plt.show()"
   ]
  },
  {
   "cell_type": "code",
   "execution_count": null,
   "id": "41299687-0af7-4505-9bde-7bc4fa8d2743",
   "metadata": {},
   "outputs": [],
   "source": [
    "index=0\n",
    "output=''\n",
    "Name='Cedric'\n",
    "while index<len(Name) :\n",
    "    if index %2==0:\n",
    "        output+=Name[index].upper()\n",
    "    else :\n",
    "        output+=Name[index].lower()\n",
    "    index+=1\n",
    "print(output)"
   ]
  },
  {
   "cell_type": "code",
   "execution_count": 77,
   "id": "d11a0891-cca9-472f-a69d-77044d3cf5d8",
   "metadata": {},
   "outputs": [
    {
     "name": "stdout",
     "output_type": "stream",
     "text": [
      "20           Corporate\n",
      "21           Corporate\n",
      "22         Home Office\n",
      "52           Corporate\n",
      "53         Home Office\n",
      "54             Unknown\n",
      "65             Unknown\n",
      "66           Corporate\n",
      "67             Unknown\n",
      "68           Corporate\n",
      "84            Consumer\n",
      "85            Consumer\n",
      "86         Home Office\n",
      "1098         Corporate\n",
      "1099         Corporate\n",
      "1100       Home Office\n",
      "1107       Home Office\n",
      "1108           Unknown\n",
      "1109          Consumer\n",
      "1396         Corporate\n",
      "1397         Corporate\n",
      "1398           Unknown\n",
      "1404          Consumer\n",
      "1405          Consumer\n",
      "1406    Small Business\n",
      "1434          Consumer\n",
      "1435       Home Office\n",
      "1436       Home Office\n",
      "1437         Corporate\n",
      "Name: Customer_Segment, dtype: object\n",
      "File saved successfully!\n"
     ]
    },
    {
     "name": "stderr",
     "output_type": "stream",
     "text": [
      "C:\\Users\\user\\AppData\\Local\\Temp\\ipykernel_5984\\1443921756.py:62: SettingWithCopyWarning: \n",
      "A value is trying to be set on a copy of a slice from a DataFrame.\n",
      "Try using .loc[row_indexer,col_indexer] = value instead\n",
      "\n",
      "See the caveats in the documentation: https://pandas.pydata.org/pandas-docs/stable/user_guide/indexing.html#returning-a-view-versus-a-copy\n",
      "  missing_values[target] = missing_values.apply(predict_customer_segment, axis=1)\n"
     ]
    }
   ],
   "source": [
    "import pandas as pd\n",
    "\n",
    "# Load the dataset\n",
    "new_data = pd.read_csv(r\"C:\\Users\\user\\Downloads\\Sales.csv\")\n",
    "\n",
    "# Define the columns to use as predictors\n",
    "predictors = ['Product_Sub-Category', 'Customer_Name', 'Product_Category']\n",
    "\n",
    "# Define the target column\n",
    "target = 'Customer_Segment'\n",
    "\n",
    "# Define the missing values to predict\n",
    "missing_values = new_data[new_data[target].isnull()]\n",
    "\n",
    "# Define the training data\n",
    "training_data = new_data[new_data[target].notnull()]\n",
    "\n",
    "def predict_customer_segment(row):\n",
    "    if row['Customer_Name'] == 'Roy Collins':\n",
    "        return 'Corporate'\n",
    "    elif row['Customer_Name'] == 'Giulietta Weimer':\n",
    "        return 'Corporate'\n",
    "    elif row['Customer_Name'] == 'Carlos Soltero':\n",
    "        return 'Consumer'\n",
    "    elif row['Customer_Name'] == 'Kimberly Carter':\n",
    "        return 'Home Office'\n",
    "    elif row['Customer_Name'] == 'Michelle Ellison':\n",
    "        return 'Consumer'\n",
    "    elif row['Customer_Name'] == 'Tonja Turnell':\n",
    "        return 'Consumer'\n",
    "    elif row['Customer_Name'] == 'Benjamin Farhat':\n",
    "        return 'Home Office'\n",
    "    elif row['Customer_Name'] == 'Rick Wilson':\n",
    "        return 'Consumer'\n",
    "    elif row['Customer_Name'] == 'Rick Hansen':\n",
    "        return 'Corporate'\n",
    "    elif row['Customer_Name'] == 'Sung Chung':\n",
    "        return 'Home Office'\n",
    "\n",
    "    if row['Product_Category'] == 'Technology' and row['Product_Sub-Category'] == 'Telephones and Communication':\n",
    "        return 'Corporate'\n",
    "    elif row['Product_Category'] == 'Furniture' and row['Product_Sub-Category'] == 'Tables':\n",
    "        return 'Corporate'\n",
    "    elif row['Product_Category'] == 'Furniture' and row['Product_Sub-Category'] == 'Office Furnishings':\n",
    "        return 'Corporate'\n",
    "    elif row['Product_Category'] == 'Office Supplies' and row['Product_Sub-Category'] == 'Storage & Organization':\n",
    "        return 'Home Office'\n",
    "    elif row['Product_Sub-Category'] == 'Scissors, Rulers and Trimmers':\n",
    "        return 'Corporate'\n",
    "    elif row['Product_Sub-Category'] == 'Pens & Art Supplies':\n",
    "        return 'Corporate'\n",
    "    elif row['Product_Sub-Category'] == 'Envelopes' or row['Product_Sub-Category'] == 'Bookcases':\n",
    "        return 'Home Office'\n",
    "    elif row['Product_Sub-Category'] == 'Computer Peripherals':\n",
    "        return 'Small Business'\n",
    "    elif row['Product_Sub-Category'] == 'Office Machines':\n",
    "        return 'Corporate'\n",
    "    else:\n",
    "        return 'Unknown'\n",
    "\n",
    "# Apply the prediction function to the missing values\n",
    "missing_values[target] = missing_values.apply(predict_customer_segment, axis=1)\n",
    "# Print the predicted values\n",
    "print(missing_values[target])"
   ]
  },
  {
   "cell_type": "code",
   "execution_count": null,
   "id": "acd7df6a-b197-450e-bd80-538961294f69",
   "metadata": {},
   "outputs": [],
   "source": []
  }
 ],
 "metadata": {
  "kernelspec": {
   "display_name": "Python 3 (ipykernel)",
   "language": "python",
   "name": "python3"
  },
  "language_info": {
   "codemirror_mode": {
    "name": "ipython",
    "version": 3
   },
   "file_extension": ".py",
   "mimetype": "text/x-python",
   "name": "python",
   "nbconvert_exporter": "python",
   "pygments_lexer": "ipython3",
   "version": "3.12.7"
  }
 },
 "nbformat": 4,
 "nbformat_minor": 5
}
